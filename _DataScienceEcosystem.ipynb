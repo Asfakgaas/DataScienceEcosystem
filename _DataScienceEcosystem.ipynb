{
 "cells": [
  {
   "cell_type": "markdown",
   "id": "efe0c339-dc37-4664-a9c1-efb1e039c999",
   "metadata": {},
   "source": [
    "# Data Science Tools and Ecosystem\n"
   ]
  },
  {
   "cell_type": "markdown",
   "id": "cd0d1cfb-11e3-4f47-b577-7414fad4d194",
   "metadata": {},
   "source": [
    "### In this notebook, Data Science Tools and Ecosystem are summarized."
   ]
  },
  {
   "cell_type": "markdown",
   "id": "d0c87a43-d36b-4ea0-8d45-c46d241baabd",
   "metadata": {},
   "source": [
    "#### Some of the popular languages that Data Scientists use are:\n",
    "   #### 1. Python \n",
    "   #### 2. Java\n",
    "   #### 3. R"
   ]
  },
  {
   "cell_type": "markdown",
   "id": "76e8c6f4-4b45-4f20-a96c-49925df3294a",
   "metadata": {},
   "source": [
    "| Data Science Tools | \n",
    "| --- | \n",
    "| google colab |\n",
    "| Jupyter notebook |\n",
    "| spyder |"
   ]
  },
  {
   "cell_type": "markdown",
   "id": "fe57423a-9b90-45a5-9c44-3231ac9c1e85",
   "metadata": {},
   "source": [
    "### Below are a few examples of evaluating arithmetic expressions in Python"
   ]
  },
  {
   "cell_type": "code",
   "execution_count": 1,
   "id": "b3088827-a52b-454c-96ff-48ff6a435e51",
   "metadata": {
    "tags": []
   },
   "outputs": [
    {
     "data": {
      "text/plain": [
       "17"
      ]
     },
     "execution_count": 1,
     "metadata": {},
     "output_type": "execute_result"
    }
   ],
   "source": [
    "# This a simple arithmetic expression to mutiply then add integers \n",
    "(3*4)+5"
   ]
  },
  {
   "cell_type": "code",
   "execution_count": 2,
   "id": "963b406d-55e3-4e3a-a9ac-e64207b05c06",
   "metadata": {
    "tags": []
   },
   "outputs": [
    {
     "data": {
      "text/plain": [
       "3.3333333333333335"
      ]
     },
     "execution_count": 2,
     "metadata": {},
     "output_type": "execute_result"
    }
   ],
   "source": [
    "# This will convert 200 minutes to hours by diving by 60\n",
    "200 / 60"
   ]
  },
  {
   "cell_type": "markdown",
   "id": "59541254-ff3d-45af-9d86-8b5d722974b8",
   "metadata": {},
   "source": [
    "__Objectives:__\n",
    "\n",
    "- List popular languages for Data Science\n",
    "- importen of R language\n",
    "- Data science tools \n",
    "- open source development envirments "
   ]
  },
  {
   "cell_type": "markdown",
   "id": "200b9bd1-05a0-4c14-af19-928b21958f0e",
   "metadata": {},
   "source": [
    "## Author: Mohamed Asfak"
   ]
  },
  {
   "cell_type": "code",
   "execution_count": null,
   "id": "d607979c-95b7-4430-a61e-088686df9990",
   "metadata": {},
   "outputs": [],
   "source": []
  }
 ],
 "metadata": {
  "kernelspec": {
   "display_name": "Python 3 (ipykernel)",
   "language": "python",
   "name": "python3"
  },
  "language_info": {
   "codemirror_mode": {
    "name": "ipython",
    "version": 3
   },
   "file_extension": ".py",
   "mimetype": "text/x-python",
   "name": "python",
   "nbconvert_exporter": "python",
   "pygments_lexer": "ipython3",
   "version": "3.11.3"
  }
 },
 "nbformat": 4,
 "nbformat_minor": 5
}
